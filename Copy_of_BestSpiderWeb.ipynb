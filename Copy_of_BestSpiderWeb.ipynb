{
  "nbformat": 4,
  "nbformat_minor": 0,
  "metadata": {
    "colab": {
      "name": "Copy of BestSpiderWeb.ipynb",
      "provenance": [],
      "toc_visible": true,
      "include_colab_link": true
    },
    "kernelspec": {
      "name": "python3",
      "display_name": "Python 3"
    },
    "accelerator": "TPU"
  },
  "cells": [
    {
      "cell_type": "markdown",
      "metadata": {
        "id": "view-in-github",
        "colab_type": "text"
      },
      "source": [
        "<a href=\"https://colab.research.google.com/github/LorenzoTinfena/BestSpiderWeb/blob/master/Copy_of_BestSpiderWeb.ipynb\" target=\"_parent\"><img src=\"https://colab.research.google.com/assets/colab-badge.svg\" alt=\"Open In Colab\"/></a>"
      ]
    },
    {
      "cell_type": "markdown",
      "metadata": {
        "id": "hF_buAzxxPjP"
      },
      "source": [
        "# BestSpiderWeb\n",
        "# Problem\n",
        "A city without roads has a wheat producer, an egg producer and a hotel.\n",
        "The mayor also wants to build a pasta producer and a restaurant in the future. He also wants to build roads like in the picture, so that the producer can easily take the wheat and eggs to make pasta, and the restaurant can easily buy pasta, welcome hotel people, and buy eggs for other preparations.\n",
        "\n",
        "<img src=\"https://github.com/LorenzoTinfena/BestSpiderWeb/blob/master/assets/city0.png?raw=1\" width=\"300\"/>\n",
        "\n",
        "**Goal:** to build roads costs, you have to make them as short as possible.\n",
        "\n",
        "<img src=\"https://github.com/LorenzoTinfena/BestSpiderWeb/blob/master/assets/city1.png?raw=1\" width=\"300\"/>\n",
        "\n",
        "\n",
        "---\n",
        "\n",
        "\n",
        "**In other words:** In an Euclidean space there is a graph with constant edges and with 2 types of nodes, one with constant coordinates, the other with a variable coordinates.\n",
        "\n",
        "**Goal:** To find the positions of the variable nodes in order to have the smaller sum of the length of the edges\n"
      ]
    },
    {
      "cell_type": "code",
      "metadata": {
        "id": "YIHHTUFue4IY"
      },
      "source": [
        "from google.colab import drive\n",
        "drive.mount('/content/drive')"
      ],
      "execution_count": null,
      "outputs": []
    },
    {
      "cell_type": "markdown",
      "metadata": {
        "id": "ZspoSNrjJsNQ"
      },
      "source": [
        ""
      ]
    },
    {
      "cell_type": "markdown",
      "metadata": {
        "id": "Fs5YttUQJTel"
      },
      "source": [
        "# Solution\n",
        "$$\n",
        "N_0[c] = \\sum_{i \\in N}\\sum_{v \\in P_{N_0  \\longleftrightarrow i}}\\frac{\\sum O_i[c]}{v}\n",
        "$$\n",
        "where\n",
        "*   $$N_0$$\n",
        "\n",
        "*   $$c$$\n",
        "coordinates\n",
        "*   $$N$$\n",
        "set of nodes with variable coordinates reachable from N with 0 passing only through nodes belonging to N\n",
        "*   $$O$$\n",
        "set of nodes with constant coordinates\n",
        "*   $$O_i$$\n",
        "set of nodes belonging to \"O\" adjacent to \"i\"\n",
        "*   $$P_{N_0  \\rightarrow i}$$\n",
        "set of all possible paths (infinite for lenght of \"N\" greater than 1\") between node \"N with 0\" to node \"i\",\n",
        "passing only through nodes belonging to N\n",
        "*   $$v$$\n",
        "Or path, is a multiplication of the number of edges for all the nodes it crosses, \"N with 0\" included, \"i\" included,\n",
        "(e.g. if it starts from a node that has 7 adjacent edges, then goes through one that has 2,\n",
        "and ends up with one having 3, the calculation will be 7 * 2 * 3 = 42"
      ]
    },
    {
      "cell_type": "markdown",
      "metadata": {
        "id": "OmZUPfOVLVSb"
      },
      "source": [
        "# Implementation"
      ]
    },
    {
      "cell_type": "code",
      "metadata": {
        "id": "21TDvVciKqsT"
      },
      "source": [
        "import numpy as np\n",
        "\n",
        "\n",
        "class Node:\n",
        "    NoCoordinates = None\n",
        "    def __init__(self, coordinates: np.ndarray = None):\n",
        "        self.AdjacentNodes = []\n",
        "        if coordinates is None:\n",
        "            self.Constant = False\n",
        "        else:\n",
        "            if len(coordinates) != Node.NoCoordinates:\n",
        "                raise Exception('wrong number of coordinates')\n",
        "            self.Coordinates = coordinates\n",
        "            self.Constant = True\n",
        "\n",
        "    def AddAdjacentNode(self, item: 'Node'):\n",
        "        self.AdjacentNodes.append(item)\n",
        "\n",
        "    class _VirtualNode:\n",
        "        def __init__(self, nodeBase: 'Node' = None):\n",
        "            if nodeBase is not None:\n",
        "                self.ActualNode = nodeBase\n",
        "                self.SumConstantNodes = np.zeros(Node.NoCoordinates)\n",
        "                for item in nodeBase.AdjacentNodes:\n",
        "                    if item.Constant:\n",
        "                        self.SumConstantNodes += item.Coordinates\n",
        "                self.NumTmpPath = len(nodeBase.AdjacentNodes)\n",
        "\n",
        "        def Copy(self, actualNode: 'Node') -> '_VirtualNode':\n",
        "            item = Node._VirtualNode()\n",
        "            item.ActualNode = actualNode\n",
        "            item.SumConstantNodes = self.SumConstantNodes\n",
        "            item.NumTmpPath = self.NumTmpPath * len(actualNode.AdjacentNodes)\n",
        "            return item\n",
        "\n",
        "\n",
        "def ComputeBestSpiderWeb(variablesNodes: list):\n",
        "    # initialize coordinates of variables nodes\n",
        "    for item in variablesNodes:\n",
        "        item.Coordinates = np.zeros(Node.NoCoordinates)\n",
        "\n",
        "    # initialize virtual nodes\n",
        "    _VirtualNodes = []\n",
        "    for item in variablesNodes:\n",
        "        _VirtualNodes.append(Node._VirtualNode(item))\n",
        "\n",
        "    # ALGORITHM\n",
        "    # more iterations means more accuracy (exponential)\n",
        "    for i in range(40):\n",
        "        next_VirtualNodes = []\n",
        "        # iterate through all variables virtual nodes\n",
        "        for item in _VirtualNodes:\n",
        "            # update the coordinates of the actual node\n",
        "            item.ActualNode.Coordinates += item.SumConstantNodes / item.NumTmpPath\n",
        "            # iterate through adjacent nodes of the actual node\n",
        "            for AdjacentItem in item.ActualNode.AdjacentNodes:\n",
        "                # if the adjacent node is variable add it in a new virtual node (like a tree)\n",
        "                if not AdjacentItem.Constant:\n",
        "                    next_VirtualNodes.append(item.Copy(AdjacentItem))\n",
        "        _VirtualNodes = next_VirtualNodes"
      ],
      "execution_count": null,
      "outputs": []
    },
    {
      "cell_type": "code",
      "metadata": {
        "id": "6BXXVLwvzc53",
        "colab": {
          "base_uri": "https://localhost:8080/",
          "height": 51
        },
        "outputId": "942eb48c-bd96-49cc-da21-001cb2e2018d"
      },
      "source": [
        "def main():\n",
        "    Node.NoCoordinates = 2\n",
        "\n",
        "    # constant nodes\n",
        "    Wheat = Node(np.array([0, 0]))\n",
        "    eggs = Node(np.array([5, 40]))\n",
        "    hotel = Node(np.array([50, 10]))\n",
        "\n",
        "    # variables nodes\n",
        "    pastaProducer = Node()\n",
        "    restaurant = Node()\n",
        "\n",
        "    # define edges\n",
        "    pastaProducer.AddAdjacentNode(Wheat)\n",
        "    pastaProducer.AddAdjacentNode(eggs)\n",
        "    pastaProducer.AddAdjacentNode(restaurant)\n",
        "    restaurant.AddAdjacentNode(pastaProducer)\n",
        "    restaurant.AddAdjacentNode(eggs)\n",
        "    restaurant.AddAdjacentNode(hotel)\n",
        "\n",
        "    ComputeBestSpiderWeb([pastaProducer, restaurant])\n",
        "    print('pastaProducer: ' + str(pastaProducer.Coordinates))\n",
        "    print('restaurant: ' + str(restaurant.Coordinates))\n",
        "\n",
        "\n",
        "if __name__ == '__main__':\n",
        "    main()"
      ],
      "execution_count": null,
      "outputs": [
        {
          "output_type": "stream",
          "text": [
            "pastaProducer: [ 8.75 21.25]\n",
            "restaurant: [21.25 23.75]\n"
          ],
          "name": "stdout"
        }
      ]
    },
    {
      "cell_type": "markdown",
      "metadata": {
        "id": "PDr2ViAnLiTF"
      },
      "source": [
        "<img src=\"https://github.com/LorenzoTinfena/BestSpiderWeb/blob/master/assets/example.png?raw=1\" width=\"500\"/>"
      ]
    }
  ]
}